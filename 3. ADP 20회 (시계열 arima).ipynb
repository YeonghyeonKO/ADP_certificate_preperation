{
 "cells": [
  {
   "cell_type": "markdown",
   "metadata": {},
   "source": [
    "## Arima 모델 만들기\n",
    "\n",
    "trend : constant를 가지고 있는지, c - constant / nc - no constant\n",
    "\n",
    "disp : 수렴 정보를 나타냄(정확히 뭐를 나타내는 것인지 모르겠음, 크게 중요한 사항은 아닌듯 함)\n",
    "\n",
    "-------------------------------------------\n",
    "\n",
    "이전 포스팅에서는 정상 시계열인지 확인을 하고\n",
    "\n",
    "비정상 시계열 데이터를 차분 한 뒤, 정상 시계열이 됬는지를 확인하였습니다.\n",
    "\n",
    "이제 정상 시계열임을 확인하였으니 ARIMA로 예측 모형을 만드는 과정에 대해 포스팅 합니다.\n",
    "\n",
    "그래프 상에서는 차분 1번 이후에 추가적으로 AR, MA를 0으로 하고 진행을 하여도 되지만\n",
    "\n",
    "최적의 모형을 찾는 과정을 설명하기 위해,  일단(AR=0, 차분=1, MA=1) 파라미터로 ARIMA 모델을 학습합니다."
   ]
  },
  {
   "cell_type": "code",
   "execution_count": 6,
   "metadata": {
    "ExecuteTime": {
     "end_time": "2021-03-10T14:08:13.457465Z",
     "start_time": "2021-03-10T14:08:13.389098Z"
    },
    "scrolled": false
   },
   "outputs": [
    {
     "name": "stdout",
     "output_type": "stream",
     "text": [
      "                             ARIMA Model Results                              \n",
      "==============================================================================\n",
      "Dep. Variable:                D.price   No. Observations:                  365\n",
      "Model:                 ARIMA(0, 1, 1)   Log Likelihood               -3036.684\n",
      "Method:                       css-mle   S.D. of innovations            993.013\n",
      "Date:                Wed, 10 Mar 2021   AIC                           6079.369\n",
      "Time:                        23:08:13   BIC                           6091.068\n",
      "Sample:                    03-03-2020   HQIC                          6084.018\n",
      "                         - 03-02-2021                                         \n",
      "=================================================================================\n",
      "                    coef    std err          z      P>|z|      [0.025      0.975]\n",
      "---------------------------------------------------------------------------------\n",
      "const           112.4754     50.926      2.209      0.027      12.663     212.288\n",
      "ma.L1.D.price    -0.0204      0.052     -0.391      0.696      -0.123       0.082\n",
      "                                    Roots                                    \n",
      "=============================================================================\n",
      "                  Real          Imaginary           Modulus         Frequency\n",
      "-----------------------------------------------------------------------------\n",
      "MA.1           49.1054           +0.0000j           49.1054            0.0000\n",
      "-----------------------------------------------------------------------------\n"
     ]
    }
   ],
   "source": [
    "import warnings\n",
    "warnings.filterwarnings(\"ignore\")\n",
    "warnings.filterwarnings(action='ignore')\n",
    "\n",
    "from statsmodels.tsa.arima_model import ARIMA\n",
    "\n",
    "model = ARIMA(series, order=(0,1,1))\n",
    "model_fit = model.fit(trend='c',full_output=True, disp=1)\n",
    "print(model_fit.summary())"
   ]
  },
  {
   "cell_type": "markdown",
   "metadata": {},
   "source": [
    "‘P > z’ 값이 일반적으로 학습의 적정성을 위해 확인되는 t-test값이다. \n",
    "\n",
    "여기서 만약 const의  p value 0.05 이상이라면, \n",
    "\n",
    "model.fit()의 파라미터중 trend=’c’가 아니라 ‘nc’로 설정해주어야 하는게 옳다.\n",
    "\n",
    "즉 시계열 모형에 상수 값이 필요하지 않다는 것을 의미한다.\n",
    "\n",
    "여기서는 const가 아닌 그래프 상에서는 필요하지 않았지만 임의로 추가하였던 MA1이 귀무가설 채택인 상태이므로\n",
    "\n",
    "이를 제외하고 다시 모형을 만들었다."
   ]
  },
  {
   "cell_type": "code",
   "execution_count": 7,
   "metadata": {
    "ExecuteTime": {
     "end_time": "2021-03-10T14:08:13.806104Z",
     "start_time": "2021-03-10T14:08:13.792104Z"
    }
   },
   "outputs": [
    {
     "name": "stdout",
     "output_type": "stream",
     "text": [
      "                             ARIMA Model Results                              \n",
      "==============================================================================\n",
      "Dep. Variable:                D.price   No. Observations:                  365\n",
      "Model:                 ARIMA(0, 1, 0)   Log Likelihood               -3036.760\n",
      "Method:                           css   S.D. of innovations            993.220\n",
      "Date:                Wed, 10 Mar 2021   AIC                           6077.520\n",
      "Time:                        23:08:13   BIC                           6085.320\n",
      "Sample:                    03-03-2020   HQIC                          6080.620\n",
      "                         - 03-02-2021                                         \n",
      "==============================================================================\n",
      "                 coef    std err          z      P>|z|      [0.025      0.975]\n",
      "------------------------------------------------------------------------------\n",
      "const        112.5596     51.988      2.165      0.030      10.666     214.453\n",
      "==============================================================================\n"
     ]
    }
   ],
   "source": [
    "model = ARIMA(series, order=(0,1,0))\n",
    "model_fit = model.fit(trend='c',full_output=True, disp=1)\n",
    "print(model_fit.summary())"
   ]
  },
  {
   "cell_type": "markdown",
   "metadata": {},
   "source": [
    "확실히 MA1이 추가된 모형보다 그냥 차분만 하고 ARMIA(0,1,0)을 한 모형이 AIC, BIC 값이 더 작다.\n",
    "\n",
    "const에 대한 pvalue도 귀무가설 기각 상태이므로 해당 변수가 유의하다는 뜻이다.\n",
    "\n",
    "만약 이렇게 모형을 일일히 만들어서 하는 것이 아닌 r에서의 auto arima를 통해서 결과를 비교하고 싶다면\n",
    "\n",
    "아래와 같은 방식으로 수행을 하여야 한다.\n",
    "\n",
    "먼저 R에서의 auto arima 방식이다.\n",
    "\n",
    "---------------------------------------\n",
    "\n",
    "library(forecast)\n",
    "\n",
    "auto.arima(data)\n",
    "\n",
    "---------------------------------------\n",
    "\n",
    "이렇게 실행한 다음에, 나온 AR,차분여부,MA 값으로 모델을 만들고 예측을 하면 된다.\n",
    "\n",
    "R은 이렇게 간단하지만, python은 auto arima를 가능하게 해주는 패키지가 ADP에서는 제공이 안된다.\n",
    "\n",
    "밑에는 파이썬으로 arima를 for문을 이용해서 모든 경우의 수를 이용하여서 생성하고 AIC 값을 이용해서\n",
    "\n",
    "최적의 모형을 찾아주는 방법이다."
   ]
  },
  {
   "cell_type": "code",
   "execution_count": 8,
   "metadata": {
    "ExecuteTime": {
     "end_time": "2021-03-10T14:08:14.394295Z",
     "start_time": "2021-03-10T14:08:14.185068Z"
    },
    "scrolled": true
   },
   "outputs": [
    {
     "data": {
      "text/html": [
       "<div>\n",
       "<style scoped>\n",
       "    .dataframe tbody tr th:only-of-type {\n",
       "        vertical-align: middle;\n",
       "    }\n",
       "\n",
       "    .dataframe tbody tr th {\n",
       "        vertical-align: top;\n",
       "    }\n",
       "\n",
       "    .dataframe thead th {\n",
       "        text-align: right;\n",
       "    }\n",
       "</style>\n",
       "<table border=\"1\" class=\"dataframe\">\n",
       "  <thead>\n",
       "    <tr style=\"text-align: right;\">\n",
       "      <th></th>\n",
       "      <th>order</th>\n",
       "      <th>AIC</th>\n",
       "    </tr>\n",
       "  </thead>\n",
       "  <tbody>\n",
       "    <tr>\n",
       "      <th>2</th>\n",
       "      <td>p0 d1 q0</td>\n",
       "      <td>6077.520333</td>\n",
       "    </tr>\n",
       "    <tr>\n",
       "      <th>5</th>\n",
       "      <td>p1 d1 q0</td>\n",
       "      <td>6079.360565</td>\n",
       "    </tr>\n",
       "    <tr>\n",
       "      <th>3</th>\n",
       "      <td>p0 d1 q1</td>\n",
       "      <td>6079.368511</td>\n",
       "    </tr>\n",
       "    <tr>\n",
       "      <th>6</th>\n",
       "      <td>p1 d1 q1</td>\n",
       "      <td>6081.343064</td>\n",
       "    </tr>\n",
       "    <tr>\n",
       "      <th>4</th>\n",
       "      <td>p1 d0 q0</td>\n",
       "      <td>6106.900505</td>\n",
       "    </tr>\n",
       "    <tr>\n",
       "      <th>1</th>\n",
       "      <td>p0 d0 q1</td>\n",
       "      <td>7444.572662</td>\n",
       "    </tr>\n",
       "    <tr>\n",
       "      <th>0</th>\n",
       "      <td>p0 d0 q0</td>\n",
       "      <td>7910.861125</td>\n",
       "    </tr>\n",
       "  </tbody>\n",
       "</table>\n",
       "</div>"
      ],
      "text/plain": [
       "      order          AIC\n",
       "2  p0 d1 q0  6077.520333\n",
       "5  p1 d1 q0  6079.360565\n",
       "3  p0 d1 q1  6079.368511\n",
       "6  p1 d1 q1  6081.343064\n",
       "4  p1 d0 q0  6106.900505\n",
       "1  p0 d0 q1  7444.572662\n",
       "0  p0 d0 q0  7910.861125"
      ]
     },
     "execution_count": 8,
     "metadata": {},
     "output_type": "execute_result"
    }
   ],
   "source": [
    "def my_auto_arima(data, order, sort='AIC'):\n",
    "    order_list = []\n",
    "    aic_list = []\n",
    "    bic_lsit = []\n",
    "\n",
    "    for p in range(order[0]):\n",
    "        for d in range(order[1]):\n",
    "            for q in range(order[2]):\n",
    "                model = ARIMA(data, order=(p, d, q))\n",
    "\n",
    "                try:\n",
    "                    model_fit = model.fit()\n",
    "                    c_order = f'p{p} d{d} q{q}'\n",
    "                    aic = model_fit.aic\n",
    "                    bic = model_fit.bic\n",
    "                    order_list.append(c_order)\n",
    "                    aic_list.append(aic)\n",
    "                    bic_list.append(bic)\n",
    "                except:\n",
    "                    pass\n",
    "\n",
    "                result_df = pd.DataFrame(list(zip(order_list, aic_list)),\n",
    "                                         columns=['order', 'AIC'])\n",
    "                result_df.sort_values(sort, inplace=True)\n",
    "\n",
    "    return result_df\n",
    "\n",
    "\n",
    "my_auto_arima(series, [2, 2, 2])"
   ]
  },
  {
   "cell_type": "markdown",
   "metadata": {},
   "source": [
    "차분을 1번이라도 한 게, 차분을 안 한 것보다는 AIC값이 더 낮았고,\n",
    "\n",
    "최적의 모형은 역시 차분만 하고 AR, MA는 안 한 모형으로 나온 것이 확인 되었다.\n",
    "\n",
    "그 다음은 기존 날짜의 예측값과 실제 값을 비교해서 시각화 하고\n",
    "\n",
    "forecast로 그 이후에 몇일까지를 예측할 것인지 지정을 해주면 실제 예측 값이 나오는 방식이다."
   ]
  },
  {
   "cell_type": "code",
   "execution_count": 9,
   "metadata": {
    "ExecuteTime": {
     "end_time": "2021-03-10T14:08:14.982682Z",
     "start_time": "2021-03-10T14:08:14.749106Z"
    }
   },
   "outputs": [
    {
     "data": {
      "image/png": "[encoded data removed]",
      "text/plain": [
       "<Figure size 648x432 with 1 Axes>"
      ]
     },
     "metadata": {
      "needs_background": "light"
     },
     "output_type": "display_data"
    },
    {
     "name": "stdout",
     "output_type": "stream",
     "text": [
      "(array([49730.98961644, 49843.54923288, 49956.10884932, 50068.66846575,\n",
      "       50181.22808219]), array([ 993.22014229, 1404.62539564, 1720.30774954, 1986.44028457,\n",
      "       2220.90775477]), array([[47784.31390884, 51677.66532404],\n",
      "       [47090.53404565, 52596.56442011],\n",
      "       [46584.36761789, 53327.85008074],\n",
      "       [46175.31705055, 53962.01988095],\n",
      "       [45828.32886985, 54534.12729453]]))\n"
     ]
    }
   ],
   "source": [
    "model_fit.plot_predict()\n",
    "plt.show()\n",
    "\n",
    "fore = model_fit.forecast(steps=5)\n",
    "print(fore)"
   ]
  },
  {
   "cell_type": "markdown",
   "metadata": {},
   "source": [
    "## 잔차 분석\n",
    "\n",
    "최적의 모델에서 나온 잔차를 그래프로 그려보고 acf, pacf를 분석을 통해 잔차가 정상성을 가지는지 확인해보고\n",
    "\n",
    "qqplot과 shapiro test, normaltest로 정규분포 형태를 가지는지 확인 해보고\n",
    "\n",
    "마지막으로 durbin_watson 검증을 통해서 잔차의 자기상관 관계 여부를 확인해보았다."
   ]
  },
  {
   "cell_type": "code",
   "execution_count": 18,
   "metadata": {
    "ExecuteTime": {
     "end_time": "2021-03-10T14:22:39.620334Z",
     "start_time": "2021-03-10T14:22:39.604310Z"
    }
   },
   "outputs": [],
   "source": [
    "def plot_rolling(data, interval):\n",
    "    \n",
    "    rolmean = data.rolling(interval).mean()\n",
    "    rolstd = data.rolling(interval).std()\n",
    "    \n",
    "    #Plot rolling statistics:\n",
    "    plt.figure(figsize=(10, 6))\n",
    "    plt.xlabel('Date')\n",
    "    orig = plt.plot(data, color='blue',label='Original')\n",
    "    mean = plt.plot(rolmean, color='red', label='Rolling Mean')\n",
    "    std = plt.plot(rolstd, color='black', label = 'Rolling Std')\n",
    "    plt.legend(loc='best')\n",
    "    plt.show()"
   ]
  },
  {
   "cell_type": "code",
   "execution_count": 19,
   "metadata": {
    "ExecuteTime": {
     "end_time": "2021-03-10T14:22:40.251784Z",
     "start_time": "2021-03-10T14:22:39.887010Z"
    }
   },
   "outputs": [
    {
     "data": {
      "image/png": "[encoded data removed]",
      "text/plain": [
       "<Figure size 720x432 with 1 Axes>"
      ]
     },
     "metadata": {
      "needs_background": "light"
     },
     "output_type": "display_data"
    },
    {
     "data": {
      "image/png": "[encoded data removed]",
      "text/plain": [
       "<Figure size 648x432 with 1 Axes>"
      ]
     },
     "metadata": {
      "needs_background": "light"
     },
     "output_type": "display_data"
    },
    {
     "data": {
      "image/png": "[encoded data removed]",
      "text/plain": [
       "<Figure size 648x432 with 1 Axes>"
      ]
     },
     "metadata": {
      "needs_background": "light"
     },
     "output_type": "display_data"
    }
   ],
   "source": [
    "plt.rcParams['figure.figsize'] = [9, 6]\n",
    "plot_rolling(model_fit.resid, 30)\n",
    "plot_acf(model_fit.resid)\n",
    "plot_pacf(model_fit.resid)\n",
    "plt.show()"
   ]
  },
  {
   "cell_type": "markdown",
   "metadata": {},
   "source": [
    "잔차의 그래프만 확인해보면, 1차 차분을 한 것과 모양이 굉장히 흡사하다.\n",
    "\n",
    "평균을 일정해 보이는 것이 확인이 되었고, 분산의 경우, 마지막 부분에 왔다갔다 하는 값이 크기 때문에 분산이 일정하다고는 말 할 수 없을 것으로 보인다.\n",
    "\n",
    "정상성을 추가로 확인하기 위해서, ACF, PACF 표를 확인해본 결과, 두 그래프에서 모두 절단점이 발견되지 않아\n",
    "\n",
    "정상 시계열일 것으로 추측할 수 있다."
   ]
  },
  {
   "cell_type": "code",
   "execution_count": 11,
   "metadata": {
    "ExecuteTime": {
     "end_time": "2021-03-10T14:08:15.688657Z",
     "start_time": "2021-03-10T14:08:15.674656Z"
    }
   },
   "outputs": [
    {
     "name": "stdout",
     "output_type": "stream",
     "text": [
      "원 데이터 ADF Statistic: -5.660\n",
      "원 데이터 p-value: 0.000\n"
     ]
    }
   ],
   "source": [
    "from statsmodels.tsa.stattools import adfuller\n",
    "result = adfuller(model_fit.resid)\n",
    "print(f'원 데이터 ADF Statistic: {result[0]:.3f}')\n",
    "print(f'원 데이터 p-value: {result[1]:.3f}')"
   ]
  },
  {
   "cell_type": "markdown",
   "metadata": {},
   "source": [
    "ADF 검증을 통해서 확인해본 결과, pvalue가 매우 작으므로, 귀무가설인 비정상 시계열임을 기각하고\n",
    "\n",
    "정상 시계열임을 채택할 수 있다.\n",
    "\n",
    "그리고 잔차가 정규분포인지를 확인해보는 것의 경우, 아래와 같은 결과가 나왔는데\n",
    "\n",
    "시각화를 해서 봤을 때는, 어느 정도는 정규분포를 따르는 모습으로 보이기는 하지만\n",
    "\n",
    "shapiro wilk test와 normaltest를 통해서 수행한 결과에서는 모두 pvalue가 매우 작아서\n",
    "\n",
    "귀무가설인 해당 잔차가 정규분포를 따른다는 가설을 기각하게 된 모습을 확인할 수 있었다."
   ]
  },
  {
   "cell_type": "code",
   "execution_count": 20,
   "metadata": {
    "ExecuteTime": {
     "end_time": "2021-03-10T14:25:27.827419Z",
     "start_time": "2021-03-10T14:25:27.727386Z"
    }
   },
   "outputs": [
    {
     "data": {
      "image/png": "[encoded data removed]",
      "text/plain": [
       "<Figure size 648x432 with 1 Axes>"
      ]
     },
     "metadata": {
      "needs_background": "light"
     },
     "output_type": "display_data"
    },
    {
     "name": "stdout",
     "output_type": "stream",
     "text": [
      "Statistics=0.730, p=0.000\n",
      "Sample does not look Gaussian (reject H0)\n",
      "----------------\n",
      "Statistics=126.455, p=0.000\n",
      "Sample does not look Gaussian (reject H0)\n"
     ]
    }
   ],
   "source": [
    "from statsmodels.graphics.gofplots import qqplot\n",
    "from scipy.stats import shapiro, normaltest\n",
    "\n",
    "qqplot(model_fit.resid, line='s')\n",
    "plt.show()\n",
    "\n",
    "stat1, p1 = shapiro(model_fit.resid)\n",
    "print('Statistics=%.3f, p=%.3f' % (stat1, p1))\n",
    "# interpret\n",
    "alpha = 0.05\n",
    "if p1 > alpha:\n",
    " print('Sample looks Gaussian (fail to reject H0)')\n",
    "else:\n",
    " print('Sample does not look Gaussian (reject H0)')\n",
    "\n",
    "print(\"----------------\")\n",
    "\n",
    "stat2, p2 = normaltest(model_fit.resid)\n",
    "print('Statistics=%.3f, p=%.3f' % (stat2, p2))\n",
    "# interpret\n",
    "alpha = 0.05\n",
    "if p2 > alpha:\n",
    " print('Sample looks Gaussian (fail to reject H0)')\n",
    "else:\n",
    " print('Sample does not look Gaussian (reject H0)')"
   ]
  },
  {
   "cell_type": "markdown",
   "metadata": {},
   "source": [
    "마지막으로 잔차가 자기상관관계를 가지고 있는지 확인하기 위해서 durbin watson 검증을 수행한 결과\n",
    "\n",
    "2에 가까운 값을 가진 것으로 확인 하였다.\n",
    "\n",
    "2에 가까울수록 auto correlation을 가지고 있지 않다는 가설을 채택할 수 있다.\n",
    "\n",
    "pvalue는 R 처럼 나오지 않기에, 값이 2에 얼마나 가까운지를 통해서 결론을 도출하여야 한다.\n",
    "\n",
    "0에 가까우면 양의 auto correlation, 4에 가까우면 음의 auto correlation을 가진다."
   ]
  },
  {
   "cell_type": "code",
   "execution_count": 14,
   "metadata": {
    "ExecuteTime": {
     "end_time": "2021-03-10T14:08:16.747636Z",
     "start_time": "2021-03-10T14:08:16.740630Z"
    }
   },
   "outputs": [
    {
     "data": {
      "text/plain": [
       "1.9869860884341106"
      ]
     },
     "execution_count": 14,
     "metadata": {},
     "output_type": "execute_result"
    }
   ],
   "source": [
    "#자기상관\n",
    "from statsmodels.stats.stattools import durbin_watson\n",
    "\n",
    "durbin_watson(model_fit.resid)"
   ]
  },
  {
   "cell_type": "markdown",
   "metadata": {},
   "source": [
    "## cf1) SARIMA 사용시\n",
    "\n",
    "19회 ADP 실기 시험에서 SARIMA가 나왔다는 이야기가 있어서\n",
    "\n",
    "일단은 추가로 포스팅을 해본다.\n",
    "\n",
    "딱히 나올 가능성이 크지는 않을 것으로 보인다.\n",
    "\n",
    "나와도 어차피 공식 문서를 활용해서 충분히 구현 가능할 것으로 보인다."
   ]
  },
  {
   "cell_type": "code",
   "execution_count": 16,
   "metadata": {
    "ExecuteTime": {
     "end_time": "2021-03-10T14:08:48.012554Z",
     "start_time": "2021-03-10T14:08:33.459432Z"
    }
   },
   "outputs": [
    {
     "name": "stderr",
     "output_type": "stream",
     "text": [
      "100%|████████████████████████████████████████████████████████████████████████████████████| 8/8 [00:13<00:00,  1.66s/it]\n"
     ]
    },
    {
     "data": {
      "text/html": [
       "<table class=\"simpletable\">\n",
       "<caption>SARIMAX Results</caption>\n",
       "<tr>\n",
       "  <th>Dep. Variable:</th>                <td>price</td>             <th>  No. Observations:  </th>    <td>366</td>   \n",
       "</tr>\n",
       "<tr>\n",
       "  <th>Model:</th>           <td>SARIMAX(1, 1, 1)x(0, 1, 1, 12)</td> <th>  Log Likelihood     </th> <td>-2841.303</td>\n",
       "</tr>\n",
       "<tr>\n",
       "  <th>Date:</th>                   <td>Wed, 10 Mar 2021</td>        <th>  AIC                </th> <td>5690.606</td> \n",
       "</tr>\n",
       "<tr>\n",
       "  <th>Time:</th>                       <td>23:08:48</td>            <th>  BIC                </th> <td>5705.910</td> \n",
       "</tr>\n",
       "<tr>\n",
       "  <th>Sample:</th>                    <td>03-02-2020</td>           <th>  HQIC               </th> <td>5696.705</td> \n",
       "</tr>\n",
       "<tr>\n",
       "  <th></th>                          <td>- 03-02-2021</td>          <th>                     </th>     <td> </td>    \n",
       "</tr>\n",
       "<tr>\n",
       "  <th>Covariance Type:</th>               <td>opg</td>              <th>                     </th>     <td> </td>    \n",
       "</tr>\n",
       "</table>\n",
       "<table class=\"simpletable\">\n",
       "<tr>\n",
       "      <td></td>        <th>coef</th>     <th>std err</th>      <th>z</th>      <th>P>|z|</th>  <th>[0.025</th>    <th>0.975]</th>  \n",
       "</tr>\n",
       "<tr>\n",
       "  <th>ar.L1</th>    <td>   -0.8834</td> <td>    0.085</td> <td>  -10.434</td> <td> 0.000</td> <td>   -1.049</td> <td>   -0.717</td>\n",
       "</tr>\n",
       "<tr>\n",
       "  <th>ma.L1</th>    <td>    0.9155</td> <td>    0.074</td> <td>   12.310</td> <td> 0.000</td> <td>    0.770</td> <td>    1.061</td>\n",
       "</tr>\n",
       "<tr>\n",
       "  <th>ma.S.L12</th> <td>   -0.9451</td> <td>    0.038</td> <td>  -25.004</td> <td> 0.000</td> <td>   -1.019</td> <td>   -0.871</td>\n",
       "</tr>\n",
       "<tr>\n",
       "  <th>sigma2</th>   <td> 1.053e+06</td> <td> 3.83e+04</td> <td>   27.462</td> <td> 0.000</td> <td> 9.78e+05</td> <td> 1.13e+06</td>\n",
       "</tr>\n",
       "</table>\n",
       "<table class=\"simpletable\">\n",
       "<tr>\n",
       "  <th>Ljung-Box (L1) (Q):</th>     <td>0.81</td>  <th>  Jarque-Bera (JB):  </th> <td>2460.19</td>\n",
       "</tr>\n",
       "<tr>\n",
       "  <th>Prob(Q):</th>                <td>0.37</td>  <th>  Prob(JB):          </th>  <td>0.00</td>  \n",
       "</tr>\n",
       "<tr>\n",
       "  <th>Heteroskedasticity (H):</th> <td>22.13</td> <th>  Skew:              </th>  <td>0.75</td>  \n",
       "</tr>\n",
       "<tr>\n",
       "  <th>Prob(H) (two-sided):</th>    <td>0.00</td>  <th>  Kurtosis:          </th>  <td>16.11</td> \n",
       "</tr>\n",
       "</table><br/><br/>Warnings:<br/>[1] Covariance matrix calculated using the outer product of gradients (complex-step)."
      ],
      "text/plain": [
       "<class 'statsmodels.iolib.summary.Summary'>\n",
       "\"\"\"\n",
       "                                     SARIMAX Results                                      \n",
       "==========================================================================================\n",
       "Dep. Variable:                              price   No. Observations:                  366\n",
       "Model:             SARIMAX(1, 1, 1)x(0, 1, 1, 12)   Log Likelihood               -2841.303\n",
       "Date:                            Wed, 10 Mar 2021   AIC                           5690.606\n",
       "Time:                                    23:08:48   BIC                           5705.910\n",
       "Sample:                                03-02-2020   HQIC                          5696.705\n",
       "                                     - 03-02-2021                                         \n",
       "Covariance Type:                              opg                                         \n",
       "==============================================================================\n",
       "                 coef    std err          z      P>|z|      [0.025      0.975]\n",
       "------------------------------------------------------------------------------\n",
       "ar.L1         -0.8834      0.085    -10.434      0.000      -1.049      -0.717\n",
       "ma.L1          0.9155      0.074     12.310      0.000       0.770       1.061\n",
       "ma.S.L12      -0.9451      0.038    -25.004      0.000      -1.019      -0.871\n",
       "sigma2      1.053e+06   3.83e+04     27.462      0.000    9.78e+05    1.13e+06\n",
       "===================================================================================\n",
       "Ljung-Box (L1) (Q):                   0.81   Jarque-Bera (JB):              2460.19\n",
       "Prob(Q):                              0.37   Prob(JB):                         0.00\n",
       "Heteroskedasticity (H):              22.13   Skew:                             0.75\n",
       "Prob(H) (two-sided):                  0.00   Kurtosis:                        16.11\n",
       "===================================================================================\n",
       "\n",
       "Warnings:\n",
       "[1] Covariance matrix calculated using the outer product of gradients (complex-step).\n",
       "\"\"\""
      ]
     },
     "execution_count": 16,
     "metadata": {},
     "output_type": "execute_result"
    }
   ],
   "source": [
    "import statsmodels.api as sm\n",
    "from tqdm import tqdm\n",
    "import itertools\n",
    "# Grid Search\n",
    "p = d = q = range(0,2) # p, d, and q can be either 0, 1, or 2\n",
    "pdq = list(itertools.product(p,d,q)) # gets all possible combinations of p, d, and q \n",
    "p2 = d2 = q2 = range(0, 2) # second set of p's, d's, and q's\n",
    "pdq2 = list(itertools.product(p2,d2,q2)) # simular too code above but for seasonal parameters\n",
    "s = 12 # here I use twelve but the number here is representative of the periodicty of the seasonal cycle\n",
    "pdqs2 = [(c[0], c[1], c[2], s) for c in pdq2]\n",
    "combs = {}\n",
    "aics = []\n",
    "# Grid Search Continued\n",
    "for combination in tqdm(pdq):\n",
    "    for seasonal_combination in pdqs2:\n",
    "        try:\n",
    "            model = sm.tsa.statespace.SARIMAX(series, order=combination, seasonal_order=seasonal_combination,\n",
    "                                             enforce_stationarity=False,\n",
    "                                             enforce_invertibility=False)\n",
    "            model = model.fit()\n",
    "            combs.update({model.aic : [combination, seasonal_combination]})\n",
    "            aics.append(model.aic)\n",
    "            \n",
    "        except:\n",
    "            continue\n",
    "            \n",
    "best_aic = min(aics)\n",
    "# Modeling and forcasting\n",
    "model = sm.tsa.statespace.SARIMAX(series, order=combs[best_aic][0], seasonal_order=combs[best_aic][1],\n",
    "                                             enforce_stationarity=False,\n",
    "                                             enforce_invertibility=False)\n",
    "model = model.fit()\n",
    "model.summary()"
   ]
  }
 ],
 "metadata": {
  "hide_input": false,
  "kernelspec": {
   "display_name": "Python 3",
   "language": "python",
   "name": "python3"
  },
  "language_info": {
   "codemirror_mode": {
    "name": "ipython",
    "version": 3
   },
   "file_extension": ".py",
   "mimetype": "text/x-python",
   "name": "python",
   "nbconvert_exporter": "python",
   "pygments_lexer": "ipython3",
   "version": "3.8.5"
  },
  "toc": {
   "base_numbering": 1,
   "nav_menu": {},
   "number_sections": true,
   "sideBar": true,
   "skip_h1_title": false,
   "title_cell": "Table of Contents",
   "title_sidebar": "Contents",
   "toc_cell": false,
   "toc_position": {
    "height": "calc(100% - 180px)",
    "left": "10px",
    "top": "150px",
    "width": "252.594px"
   },
   "toc_section_display": true,
   "toc_window_display": false
  },
  "varInspector": {
   "cols": {
    "lenName": 16,
    "lenType": 16,
    "lenVar": 40
   },
   "kernels_config": {
    "python": {
     "delete_cmd_postfix": "",
     "delete_cmd_prefix": "del ",
     "library": "var_list.py",
     "varRefreshCmd": "print(var_dic_list())"
    },
    "r": {
     "delete_cmd_postfix": ") ",
     "delete_cmd_prefix": "rm(",
     "library": "var_list.r",
     "varRefreshCmd": "cat(var_dic_list()) "
    }
   },
   "types_to_exclude": [
    "module",
    "function",
    "builtin_function_or_method",
    "instance",
    "_Feature"
   ],
   "window_display": false
  }
 },
 "nbformat": 4,
 "nbformat_minor": 4
}
